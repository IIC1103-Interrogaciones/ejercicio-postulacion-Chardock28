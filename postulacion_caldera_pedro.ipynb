{
  "cells": [
    {
      "cell_type": "markdown",
      "metadata": {
        "id": "pNCc7XOIKjp4"
      },
      "source": [
        "# Ejercicio de Postulación - Área de Interrogaciones"
      ]
    },
    {
      "cell_type": "markdown",
      "metadata": {
        "id": "sWUUSps8Kjp5"
      },
      "source": [
        "Nombre: Pedro Caldera Leiva\n",
        "\n",
        "Email: pedro.caldera@estudiante.uc.cl\n",
        "\n",
        "Telegram: @chardock28"
      ]
    },
    {
      "cell_type": "markdown",
      "metadata": {
        "id": "O9ElZj0pKjp6"
      },
      "source": [
        "## Código solución (NO MODIFICAR)"
      ]
    },
    {
      "cell_type": "code",
      "execution_count": 9,
      "metadata": {
        "id": "D3txedRyKjp6"
      },
      "outputs": [],
      "source": [
        "#code.py\n",
        "def obtener_proximos(partidos, equipo):\n",
        "    equipos = []\n",
        "    ex_rivales = []\n",
        "    for partido in partidos:\n",
        "        if partido[0] not in equipos:\n",
        "            equipos.append(partido[0])\n",
        "        if partido[1] not in equipos:\n",
        "            equipos.append(partido[1])\n",
        "        if equipo == partido[0]:\n",
        "            ex_rivales.append(partido[1])\n",
        "        if equipo == partido[1]:\n",
        "            ex_rivales.append(partido[0])\n",
        "    pendientes = []\n",
        "    for rival in equipos:\n",
        "        if rival not in ex_rivales:\n",
        "            pendientes.append(rival)\n",
        "    return pendientes\n"
      ]
    },
    {
      "cell_type": "markdown",
      "metadata": {
        "id": "tmDKfNrNKjp7"
      },
      "source": [
        "## Runner Personalizado (Opcional Modificar)"
      ]
    },
    {
      "cell_type": "markdown",
      "metadata": {
        "id": "KwwgEQymKjp7"
      },
      "source": [
        "Se tendra en consideración si logran hacer que los outputs sean iguales (solo modificando el runner) independiente del orden en que retornen los elementos en la lista."
      ]
    },
    {
      "cell_type": "code",
      "execution_count": 10,
      "metadata": {
        "id": "aZeLh-_iKjp7"
      },
      "outputs": [],
      "source": [
        "from functools import partial\n",
        "\n",
        "def obtener_proximos_modificada(func_original, partidos, equipo):\n",
        "    resultado = func_original(partidos, equipo)\n",
        "    # Cambiar Comportamiento de la función original (opcional)\n",
        "    if equipo in resultado:\n",
        "      resultado.remove(equipo)\n",
        "    resultado.sort()\n",
        "    return resultado\n",
        "\n",
        "# Con esto reescribimos la función original para capturar el capturar resultado del alumno y modificarlo si es necesario\n",
        "obtener_proximos = partial(obtener_proximos_modificada, obtener_proximos)\n"
      ]
    },
    {
      "cell_type": "markdown",
      "metadata": {
        "id": "Ur5dIBV-Kjp8"
      },
      "source": [
        "## Enunciado"
      ]
    },
    {
      "cell_type": "markdown",
      "metadata": {
        "id": "MjgkxiUrKjp8"
      },
      "source": [
        "# Objetivo\n",
        "Se acerca el DCCampeonato de fútbol y para poder organizarlo van a necesitar la ayuda de tus habilidades de programación.\n",
        "\n",
        "Te solicitaron organizar las próximas fechas del campeonato. Debido al formato, cada equipo deberá enfrentarse una vez a cada uno de los demás equipos. Para ello debes definir la función `obtener_proximos`, la cual recibe los siguientes parámetros:\n",
        "* `partidos`: Una lista de listas con todos los partidos hasta el momento.Tiene el siguiente formato:\n",
        "  -  `partidos = [ [\"nombre equipo1\", \"nombre equipo2\"], [\"nombre equipo3\", \"nombre equipo4\"], ...]`\n",
        "* `equipo`: Un `str` con el nombre del equipo a buscar.\n",
        "\n",
        "El objetivo de la función es **retornar** una lista con los nombres de todos los equipos con los que el equipo buscado aún no juega.\n",
        "\n",
        "# Ejemplo\n",
        "## Input\n",
        "``` python\n",
        "partidos = [[\"Colo-Colo\", \"Universidad de Chile\"], [\"Union San Felipe\", \"Colo-Colo\"], [\"Universidad de Chile\", \"Universidad Catolica\"]]\n",
        "\n",
        "equipo = \"Union San Felipe\"\n",
        "```\n",
        "\n",
        "## Output\n",
        "``` python\n",
        "[ \"Universidad Catolica\", \"Universidad de Chile\"]\n",
        "```\n",
        "\n",
        "Como se puede ver en el *input*, el equipo a analizar es \"Union San Felipe\", por lo que debemos encontrar los equipos que aun no hayan jugado con él. Al ver todos los partidos sabemos que los equipos participantes son \"Colo-Colo\", \"Union San Felipe\", \"Universidad Catolica\" y \"Universidad de Chile\". De ellos, los que aún no juegan con el equipo seleccionado son \"Universidad Catolica\" y \"Universidad de Chile\"."
      ]
    },
    {
      "cell_type": "markdown",
      "metadata": {
        "id": "AVwSssRjKjp8"
      },
      "source": [
        "## Testcases"
      ]
    },
    {
      "cell_type": "markdown",
      "metadata": {
        "id": "FBl38GacKjp8"
      },
      "source": [
        "### Testcase 1"
      ]
    },
    {
      "cell_type": "markdown",
      "metadata": {
        "id": "HF2G-crUKjp9"
      },
      "source": [
        "#### Input"
      ]
    },
    {
      "cell_type": "code",
      "execution_count": 12,
      "metadata": {
        "id": "1Cji4CkbKjp9"
      },
      "outputs": [],
      "source": [
        "partidos = [[\"Colo-Colo\", \"Universidad de Chile\"], [\"Universidad Catolica\", \"Colo-Colo\"], [\"Universidad de Chile\", \"Universidad Catolica\"]]\n",
        "\n",
        "equipo = \"Union San Felipe\""
      ]
    },
    {
      "cell_type": "markdown",
      "metadata": {
        "id": "QuTnAzNNKjp9"
      },
      "source": [
        "#### Output"
      ]
    },
    {
      "cell_type": "code",
      "execution_count": null,
      "metadata": {
        "id": "JL8In1adKjp9"
      },
      "outputs": [],
      "source": [
        "['Colo-Colo', 'Universidad Catolica', 'Universidad de Chile']"
      ]
    },
    {
      "cell_type": "markdown",
      "metadata": {
        "id": "k--sJEcIKjp9"
      },
      "source": [
        "### Testcase 2"
      ]
    },
    {
      "cell_type": "markdown",
      "metadata": {
        "id": "5Uod-BK4Kjp9"
      },
      "source": [
        "#### Input"
      ]
    },
    {
      "cell_type": "code",
      "execution_count": 14,
      "metadata": {
        "id": "A-FSxEyoKjp-"
      },
      "outputs": [],
      "source": [
        "partidos = [[\"Colo-Colo\", \"Universidad de Chile\"], [\"Universidad Catolica\", \"Colo-Colo\"], [\"Universidad de Chile\", \"Universidad Catolica\"], [\"Colo-Colo\", \"Union San Felipe\"]]\n",
        "\n",
        "equipo = \"Colo-Colo\""
      ]
    },
    {
      "cell_type": "markdown",
      "metadata": {
        "id": "c7XbkHPyKjp-"
      },
      "source": [
        "#### Output"
      ]
    },
    {
      "cell_type": "code",
      "execution_count": null,
      "metadata": {
        "id": "PWQouXHAKjp-"
      },
      "outputs": [],
      "source": [
        "[]"
      ]
    },
    {
      "cell_type": "markdown",
      "metadata": {
        "id": "9hEzPwFCKjp-"
      },
      "source": [
        "### Testcase 3"
      ]
    },
    {
      "cell_type": "markdown",
      "metadata": {
        "id": "p6L0JwwAKjp-"
      },
      "source": [
        "#### Input"
      ]
    },
    {
      "cell_type": "code",
      "execution_count": 16,
      "metadata": {
        "id": "URSt0BJOKjp-"
      },
      "outputs": [],
      "source": [
        "partidos = [[\"Colo-Colo\", \"Universidad de Chile\"], [\"Union San Felipe\", \"Colo-Colo\"], [\"Universidad de Chile\", \"Universidad Catolica\"]]\n",
        "\n",
        "equipo = \"Union San Felipe\""
      ]
    },
    {
      "cell_type": "markdown",
      "metadata": {
        "id": "rLqm7__FKjp-"
      },
      "source": [
        "#### Output"
      ]
    },
    {
      "cell_type": "code",
      "execution_count": null,
      "metadata": {
        "id": "dPYaOpXFKjp_"
      },
      "outputs": [],
      "source": [
        "['Universidad Catolica', 'Universidad de Chile']"
      ]
    }
  ],
  "metadata": {
    "kernelspec": {
      "display_name": "Python 3",
      "language": "python",
      "name": "python3"
    },
    "language_info": {
      "codemirror_mode": {
        "name": "ipython",
        "version": 3
      },
      "file_extension": ".py",
      "mimetype": "text/x-python",
      "name": "python",
      "nbconvert_exporter": "python",
      "pygments_lexer": "ipython3",
      "version": "3.12.10"
    },
    "colab": {
      "provenance": []
    }
  },
  "nbformat": 4,
  "nbformat_minor": 0
}